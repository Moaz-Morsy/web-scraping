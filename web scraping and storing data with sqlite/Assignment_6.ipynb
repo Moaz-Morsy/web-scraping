{
 "cells": [
  {
   "cell_type": "code",
   "execution_count": 1,
   "metadata": {},
   "outputs": [],
   "source": [
    "import requests\n",
    "from bs4 import BeautifulSoup\n",
    "import sqlite3"
   ]
  },
  {
   "cell_type": "code",
   "execution_count": 2,
   "metadata": {},
   "outputs": [],
   "source": [
    "url = \"http://books.toscrape.com/catalogue/category/books/fiction_10/index.html\"\n",
    "response = requests.request('GET',url)\n",
    "#print(response.text)\n",
    "soup = BeautifulSoup(response.text,'html.parser')"
   ]
  },
  {
   "cell_type": "code",
   "execution_count": 3,
   "metadata": {},
   "outputs": [
    {
     "name": "stdout",
     "output_type": "stream",
     "text": [
      "['Soumission', 'Private Paris (Private #10)', 'We Love You, Charlie Freeman', 'Thirst', 'The Murder That Never Was (Forensic Instincts #5)', 'Tuesday Nights in 1980', 'The Vacationers', 'The Regional Office Is Under Attack!', 'Finders Keepers (Bill Hodges Trilogy #2)', 'The Time Keeper', 'The Testament of Mary', 'The First Hostage (J.B. Collins #2)', 'Take Me with You', 'Still Life with Bread Crumbs', 'Shtum', 'My Name Is Lucy Barton', 'My Mrs. Brown', 'Mr. Mercedes (Bill Hodges Trilogy #1)', 'I Am Pilgrim (Pilgrim #1)', 'Eligible (The Austen Project #4)']\n"
     ]
    }
   ],
   "source": [
    "books = []\n",
    "for x in soup.find_all('a'):\n",
    "    if x.get('title') != None:\n",
    "        books.append(x.get('title'))\n",
    "print(books)"
   ]
  },
  {
   "cell_type": "code",
   "execution_count": 4,
   "metadata": {},
   "outputs": [
    {
     "name": "stdout",
     "output_type": "stream",
     "text": [
      "[50.1, 47.61, 50.27, 17.27, 54.11, 21.04, 42.15, 51.36, 53.53, 27.88, 52.67, 25.85, 45.21, 26.41, 55.84, 41.56, 24.48, 28.9, 10.6, 27.09]\n"
     ]
    }
   ],
   "source": [
    "prices = []\n",
    "price = soup.find_all('p',attrs={'class':'price_color'})\n",
    "for x in range(len(price)):\n",
    "    prices.append(float(price[x].text[2:]))\n",
    "print(prices)"
   ]
  },
  {
   "cell_type": "code",
   "execution_count": 5,
   "metadata": {},
   "outputs": [
    {
     "name": "stdout",
     "output_type": "stream",
     "text": [
      "['One', 'Five', 'Five', 'Five', 'Three', 'Two', 'Four', 'Five', 'Five', 'Five', 'Four', 'Three', 'Three', 'Three', 'Four', 'One', 'Three', 'One', 'Four', 'Three']\n",
      "['instock', 'instock', 'instock', 'instock', 'instock', 'instock', 'instock', 'instock', 'instock', 'instock', 'instock', 'instock', 'instock', 'instock', 'instock', 'instock', 'instock', 'instock', 'instock', 'instock']\n"
     ]
    }
   ],
   "source": [
    "rating = []\n",
    "availability = []\n",
    "for x in soup.find_all('p'):\n",
    "    if len(x.get('class')) > 1:\n",
    "        if x.get('class')[0] == 'star-rating':\n",
    "            rating.append(x.get('class')[1])\n",
    "        else:\n",
    "            availability.append(x.get('class')[0])\n",
    "print(rating)\n",
    "print(availability)"
   ]
  },
  {
   "cell_type": "code",
   "execution_count": 6,
   "metadata": {},
   "outputs": [
    {
     "data": {
      "text/plain": [
       "[1, 5, 5, 5, 3, 2, 4, 5, 5, 5, 4, 3, 3, 3, 4, 1, 3, 1, 4, 3]"
      ]
     },
     "execution_count": 6,
     "metadata": {},
     "output_type": "execute_result"
    }
   ],
   "source": [
    "y = \" \".join(rating)\n",
    "z = y.replace('One','1').replace('Two','2').replace('Three','3').replace('Four','4').replace('Five','5').split(\" \")\n",
    "rating_int = []\n",
    "for x in z:\n",
    "    rating_int.append(int(x))\n",
    "rating_int"
   ]
  },
  {
   "cell_type": "code",
   "execution_count": 7,
   "metadata": {},
   "outputs": [],
   "source": [
    "connection = sqlite3.connect(\"book_store.db\")\n",
    "cursor = connection.cursor()\n",
    "for x in range(len(books)):\n",
    "    cursor.execute(\"INSERT INTO books (book,price,rate,availability) VALUES (?,?,?,?)\",\\\n",
    "                   [books[x],prices[x],rating_int[x],availability[x]])\n",
    "    connection.commit()\n",
    "connection.close()"
   ]
  },
  {
   "cell_type": "code",
   "execution_count": 8,
   "metadata": {},
   "outputs": [
    {
     "name": "stdout",
     "output_type": "stream",
     "text": [
      "ID: 1, Book: Soumission, Price: 50.1, Rate: 1, Availability: instock\n",
      "ID: 2, Book: Private Paris (Private #10), Price: 47.61, Rate: 5, Availability: instock\n",
      "ID: 3, Book: We Love You, Charlie Freeman, Price: 50.27, Rate: 5, Availability: instock\n",
      "ID: 4, Book: Thirst, Price: 17.27, Rate: 5, Availability: instock\n",
      "ID: 5, Book: The Murder That Never Was (Forensic Instincts #5), Price: 54.11, Rate: 3, Availability: instock\n",
      "ID: 6, Book: Tuesday Nights in 1980, Price: 21.04, Rate: 2, Availability: instock\n",
      "ID: 7, Book: The Vacationers, Price: 42.15, Rate: 4, Availability: instock\n",
      "ID: 8, Book: The Regional Office Is Under Attack!, Price: 51.36, Rate: 5, Availability: instock\n",
      "ID: 9, Book: Finders Keepers (Bill Hodges Trilogy #2), Price: 53.53, Rate: 5, Availability: instock\n",
      "ID: 10, Book: The Time Keeper, Price: 27.88, Rate: 5, Availability: instock\n",
      "ID: 11, Book: The Testament of Mary, Price: 52.67, Rate: 4, Availability: instock\n",
      "ID: 12, Book: The First Hostage (J.B. Collins #2), Price: 25.85, Rate: 3, Availability: instock\n",
      "ID: 13, Book: Take Me with You, Price: 45.21, Rate: 3, Availability: instock\n",
      "ID: 14, Book: Still Life with Bread Crumbs, Price: 26.41, Rate: 3, Availability: instock\n",
      "ID: 15, Book: Shtum, Price: 55.84, Rate: 4, Availability: instock\n",
      "ID: 16, Book: My Name Is Lucy Barton, Price: 41.56, Rate: 1, Availability: instock\n",
      "ID: 17, Book: My Mrs. Brown, Price: 24.48, Rate: 3, Availability: instock\n",
      "ID: 18, Book: Mr. Mercedes (Bill Hodges Trilogy #1), Price: 28.9, Rate: 1, Availability: instock\n",
      "ID: 19, Book: I Am Pilgrim (Pilgrim #1), Price: 10.6, Rate: 4, Availability: instock\n",
      "ID: 20, Book: Eligible (The Austen Project #4), Price: 27.09, Rate: 3, Availability: instock\n"
     ]
    }
   ],
   "source": [
    "connection = sqlite3.connect(\"book_store.db\")\n",
    "cursor = connection.cursor()\n",
    "cursor.execute(\"SELECT * FROM books\")\n",
    "rows = cursor.fetchall()\n",
    "connection.close()\n",
    "\n",
    "for Id,book,price,rate,availability in rows:\n",
    "    print(f\"ID: {Id}, Book: {book}, Price: {price}, Rate: {rate}, Availability: {availability}\")"
   ]
  },
  {
   "cell_type": "code",
   "execution_count": 9,
   "metadata": {},
   "outputs": [
    {
     "name": "stdout",
     "output_type": "stream",
     "text": [
      "ID: 5, Book: The Murder That Never Was (Forensic Instincts #5), Rate: 3\n",
      "ID: 12, Book: The First Hostage (J.B. Collins #2), Rate: 3\n",
      "ID: 13, Book: Take Me with You, Rate: 3\n",
      "ID: 14, Book: Still Life with Bread Crumbs, Rate: 3\n",
      "ID: 17, Book: My Mrs. Brown, Rate: 3\n",
      "ID: 20, Book: Eligible (The Austen Project #4), Rate: 3\n",
      "ID: 7, Book: The Vacationers, Rate: 4\n",
      "ID: 11, Book: The Testament of Mary, Rate: 4\n",
      "ID: 15, Book: Shtum, Rate: 4\n",
      "ID: 19, Book: I Am Pilgrim (Pilgrim #1), Rate: 4\n",
      "ID: 2, Book: Private Paris (Private #10), Rate: 5\n",
      "ID: 3, Book: We Love You, Charlie Freeman, Rate: 5\n",
      "ID: 4, Book: Thirst, Rate: 5\n",
      "ID: 8, Book: The Regional Office Is Under Attack!, Rate: 5\n",
      "ID: 9, Book: Finders Keepers (Bill Hodges Trilogy #2), Rate: 5\n",
      "ID: 10, Book: The Time Keeper, Rate: 5\n"
     ]
    }
   ],
   "source": [
    "connection = sqlite3.connect(\"book_store.db\")\n",
    "cursor = connection.cursor()\n",
    "cursor.execute(\"SELECT id,book,rate FROM books WHERE rate >= 3 ORDER BY rate\")\n",
    "rows = cursor.fetchall()\n",
    "connection.close()\n",
    "\n",
    "for Id,book,rate in rows:\n",
    "    print(f\"ID: {Id}, Book: {book}, Rate: {rate}\")"
   ]
  },
  {
   "cell_type": "code",
   "execution_count": 10,
   "metadata": {},
   "outputs": [
    {
     "name": "stdout",
     "output_type": "stream",
     "text": [
      "ID: 15, Book: Shtum, Price: 55.84\n",
      "ID: 5, Book: The Murder That Never Was (Forensic Instincts #5), Price: 54.11\n",
      "ID: 9, Book: Finders Keepers (Bill Hodges Trilogy #2), Price: 53.53\n",
      "ID: 11, Book: The Testament of Mary, Price: 52.67\n",
      "ID: 8, Book: The Regional Office Is Under Attack!, Price: 51.36\n"
     ]
    }
   ],
   "source": [
    "connection = sqlite3.connect(\"book_store.db\")\n",
    "cursor = connection.cursor()\n",
    "cursor.execute(\"SELECT id,book,price FROM books ORDER BY price DESC LIMIT 5\")\n",
    "rows = cursor.fetchall()\n",
    "connection.close()\n",
    "\n",
    "for Id,book,price in rows:\n",
    "    print(f\"ID: {Id}, Book: {book}, Price: {price}\")"
   ]
  },
  {
   "cell_type": "code",
   "execution_count": 11,
   "metadata": {},
   "outputs": [
    {
     "name": "stdout",
     "output_type": "stream",
     "text": [
      "ID: 18, Book: Mr. Mercedes (Bill Hodges Trilogy #1)\n",
      "ID: 17, Book: My Mrs. Brown\n"
     ]
    }
   ],
   "source": [
    "connection = sqlite3.connect(\"book_store.db\")\n",
    "cursor = connection.cursor()\n",
    "cursor.execute(\"SELECT id,book FROM books WHERE book like '%Mr%'\")\n",
    "rows = cursor.fetchall()\n",
    "connection.close()\n",
    "\n",
    "for Id,book in rows:\n",
    "    print(f\"ID: {Id}, Book: {book}\")"
   ]
  },
  {
   "cell_type": "code",
   "execution_count": null,
   "metadata": {},
   "outputs": [],
   "source": []
  },
  {
   "cell_type": "code",
   "execution_count": null,
   "metadata": {},
   "outputs": [],
   "source": []
  }
 ],
 "metadata": {
  "kernelspec": {
   "display_name": "Python 3",
   "language": "python",
   "name": "python3"
  },
  "language_info": {
   "codemirror_mode": {
    "name": "ipython",
    "version": 3
   },
   "file_extension": ".py",
   "mimetype": "text/x-python",
   "name": "python",
   "nbconvert_exporter": "python",
   "pygments_lexer": "ipython3",
   "version": "3.7.6"
  }
 },
 "nbformat": 4,
 "nbformat_minor": 4
}
